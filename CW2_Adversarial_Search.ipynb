{
 "cells": [
  {
   "cell_type": "markdown",
   "id": "fa56bcb7",
   "metadata": {},
   "source": [
    "\n",
    "# Coursework 2: Adversarial Search on (m, n, k)-games\n"
   ]
  },
  {
   "cell_type": "markdown",
   "id": "f5b92d1d",
   "metadata": {},
   "source": [
    "For this coursework you have to implement adversarial search by Minimax and α-β pruning to\n",
    "play (m, n, k)-games.\n",
    "An (m, n, k)-game is a board game in which two players, Max and Min, take turns in placing Xs\n",
    "(Max) and Os (Min) on an m × n board, the winner being the player who first gets k Xs (resp. Os)\n",
    "in a row, horizontally, vertically, or diagonally. Thus, tic-tac-toe is the (3, 3, 3)-game.\n",
    "More information can be found at https://en.wikipedia.org/wiki/M,n,k-game"
   ]
  },
  {
   "cell_type": "markdown",
   "id": "1c51e425",
   "metadata": {},
   "source": [
    "### 1. [10 marks] Write a program in Python that implements adversarial search by Minimax on (m, n, k)-games. The program will include a class Game with a method play() that allows for playing the game, as well as the following:\n"
   ]
  },
  {
   "cell_type": "markdown",
   "id": "3bbea296",
   "metadata": {},
   "source": [
    "#### (a) A constructor __init__(), a method initialize_game() to initialize the empty m × n board at the beginning, and a method drawboard() to output the board on the screen."
   ]
  },
  {
   "cell_type": "code",
   "execution_count": null,
   "id": "f67012e0",
   "metadata": {},
   "outputs": [],
   "source": []
  },
  {
   "cell_type": "code",
   "execution_count": null,
   "id": "3868dbb8",
   "metadata": {},
   "outputs": [],
   "source": []
  },
  {
   "cell_type": "markdown",
   "id": "e57d1be9",
   "metadata": {},
   "source": [
    "#### (b) At each step the program computes the Minimax strategy for Max and recommend the relevant action(s) to the user. The user is then prompted to insert the coordinates of the chosen cell. Finally, the program outputs the move for Min. Write methods max() and min() to compute Minimax values for both players, as well as methods is_valid() and is_terminal() to check for valid moves and terminal states."
   ]
  },
  {
   "cell_type": "code",
   "execution_count": null,
   "id": "22d2f3e2",
   "metadata": {},
   "outputs": [],
   "source": []
  },
  {
   "cell_type": "code",
   "execution_count": null,
   "id": "b07e9b85",
   "metadata": {},
   "outputs": [],
   "source": []
  },
  {
   "cell_type": "markdown",
   "id": "c44a0f4f",
   "metadata": {},
   "source": [
    "#### 2. [10 marks] Implement α-β pruning when computing Minimax values to speed up action selection. In particular, modify methods max() and min() to account for the values of α and β. Again, please comment briefly your code.\n"
   ]
  },
  {
   "cell_type": "code",
   "execution_count": null,
   "id": "4cea6132",
   "metadata": {},
   "outputs": [],
   "source": []
  },
  {
   "cell_type": "code",
   "execution_count": null,
   "id": "84937b31",
   "metadata": {},
   "outputs": [],
   "source": []
  },
  {
   "cell_type": "markdown",
   "id": "5eee65c3",
   "metadata": {},
   "source": [
    "#### 3. [5 marks] Check how the execution times for action selection for Minimax scale up depending on parameters m, n, and k of the game.\n",
    "#### Draw an appropriate table with increasing values of m, n, and k. You can use the time module and function time() to measure the time to evaluate the game tree at every move. Is there a significant difference in selection time for actions? What about the number of visited states?\n"
   ]
  },
  {
   "cell_type": "code",
   "execution_count": null,
   "id": "7a0d8535",
   "metadata": {},
   "outputs": [],
   "source": []
  },
  {
   "cell_type": "code",
   "execution_count": null,
   "id": "5ac3d795",
   "metadata": {},
   "outputs": [],
   "source": []
  },
  {
   "cell_type": "markdown",
   "id": "af340161",
   "metadata": {},
   "source": [
    "#### 4. [5 marks] Do the same as in the previous point, this time for Minimax with α-β pruning (again, you can use the time module). Is the difference with and without α-β pruning significant? Please draw a table and justify your answer with the experimental results.\n"
   ]
  },
  {
   "cell_type": "code",
   "execution_count": null,
   "id": "f48930d1",
   "metadata": {},
   "outputs": [],
   "source": []
  },
  {
   "cell_type": "code",
   "execution_count": null,
   "id": "4b569c24",
   "metadata": {},
   "outputs": [],
   "source": []
  },
  {
   "cell_type": "markdown",
   "id": "dc2d0392",
   "metadata": {},
   "source": [
    "### Try Codes"
   ]
  },
  {
   "cell_type": "code",
   "execution_count": null,
   "id": "47103640",
   "metadata": {},
   "outputs": [
    {
     "name": "stdout",
     "output_type": "stream",
     "text": [
      "\n",
      "Choose X or O\n",
      "Chosen: X\n",
      "First to start?[y/n]: y\n",
      "Human turn [X]\n",
      "\n",
      "---------------\n",
      "|   ||   ||   |\n",
      "---------------\n",
      "|   ||   ||   |\n",
      "---------------\n",
      "|   ||   ||   |\n",
      "---------------\n",
      "Use numpad (1..9): 1\n",
      "Computer turn [O]\n",
      "\n",
      "---------------\n",
      "| X ||   ||   |\n",
      "---------------\n",
      "|   ||   ||   |\n",
      "---------------\n",
      "|   ||   ||   |\n",
      "---------------\n",
      "Human turn [X]\n",
      "\n",
      "---------------\n",
      "| X ||   ||   |\n",
      "---------------\n",
      "|   || O ||   |\n",
      "---------------\n",
      "|   ||   ||   |\n",
      "---------------\n",
      "Use numpad (1..9): 5\n",
      "Bad move\n"
     ]
    }
   ],
   "source": [
    "#!/usr/bin/env python3\n",
    "from math import inf as infinity\n",
    "from random import choice\n",
    "import platform\n",
    "import time\n",
    "from os import system\n",
    "\n",
    "\"\"\"\n",
    "An implementation of Minimax AI Algorithm in Tic Tac Toe,\n",
    "using Python.\n",
    "This software is available under GPL license.\n",
    "Author: Clederson Cruz\n",
    "Year: 2017\n",
    "License: GNU GENERAL PUBLIC LICENSE (GPL)\n",
    "\"\"\"\n",
    "\n",
    "HUMAN = -1\n",
    "COMP = +1\n",
    "board = [\n",
    "    [0, 0, 0],\n",
    "    [0, 0, 0],\n",
    "    [0, 0, 0],\n",
    "]\n",
    "\n",
    "\n",
    "def evaluate(state):\n",
    "    \"\"\"\n",
    "    Function to heuristic evaluation of state.\n",
    "    :param state: the state of the current board\n",
    "    :return: +1 if the computer wins; -1 if the human wins; 0 draw\n",
    "    \"\"\"\n",
    "    if wins(state, COMP):\n",
    "        score = +1\n",
    "    elif wins(state, HUMAN):\n",
    "        score = -1\n",
    "    else:\n",
    "        score = 0\n",
    "\n",
    "    return score\n",
    "\n",
    "\n",
    "def wins(state, player):\n",
    "    \"\"\"\n",
    "    This function tests if a specific player wins. Possibilities:\n",
    "    * Three rows    [X X X] or [O O O]\n",
    "    * Three cols    [X X X] or [O O O]\n",
    "    * Two diagonals [X X X] or [O O O]\n",
    "    :param state: the state of the current board\n",
    "    :param player: a human or a computer\n",
    "    :return: True if the player wins\n",
    "    \"\"\"\n",
    "    win_state = [\n",
    "        [state[0][0], state[0][1], state[0][2]],\n",
    "        [state[1][0], state[1][1], state[1][2]],\n",
    "        [state[2][0], state[2][1], state[2][2]],\n",
    "        [state[0][0], state[1][0], state[2][0]],\n",
    "        [state[0][1], state[1][1], state[2][1]],\n",
    "        [state[0][2], state[1][2], state[2][2]],\n",
    "        [state[0][0], state[1][1], state[2][2]],\n",
    "        [state[2][0], state[1][1], state[0][2]],\n",
    "    ]\n",
    "    if [player, player, player] in win_state:\n",
    "        return True\n",
    "    else:\n",
    "        return False\n",
    "\n",
    "\n",
    "def game_over(state):\n",
    "    \"\"\"\n",
    "    This function test if the human or computer wins\n",
    "    :param state: the state of the current board\n",
    "    :return: True if the human or computer wins\n",
    "    \"\"\"\n",
    "    return wins(state, HUMAN) or wins(state, COMP)\n",
    "\n",
    "\n",
    "def empty_cells(state):\n",
    "    \"\"\"\n",
    "    Each empty cell will be added into cells' list\n",
    "    :param state: the state of the current board\n",
    "    :return: a list of empty cells\n",
    "    \"\"\"\n",
    "    cells = []\n",
    "\n",
    "    for x, row in enumerate(state):\n",
    "        for y, cell in enumerate(row):\n",
    "            if cell == 0:\n",
    "                cells.append([x, y])\n",
    "\n",
    "    return cells\n",
    "\n",
    "\n",
    "def valid_move(x, y):\n",
    "    \"\"\"\n",
    "    A move is valid if the chosen cell is empty\n",
    "    :param x: X coordinate\n",
    "    :param y: Y coordinate\n",
    "    :return: True if the board[x][y] is empty\n",
    "    \"\"\"\n",
    "    if [x, y] in empty_cells(board):\n",
    "        return True\n",
    "    else:\n",
    "        return False\n",
    "\n",
    "\n",
    "def set_move(x, y, player):\n",
    "    \"\"\"\n",
    "    Set the move on board, if the coordinates are valid\n",
    "    :param x: X coordinate\n",
    "    :param y: Y coordinate\n",
    "    :param player: the current player\n",
    "    \"\"\"\n",
    "    if valid_move(x, y):\n",
    "        board[x][y] = player\n",
    "        return True\n",
    "    else:\n",
    "        return False\n",
    "\n",
    "\n",
    "def minimax(state, depth, player):\n",
    "    \"\"\"\n",
    "    AI function that choice the best move\n",
    "    :param state: current state of the board\n",
    "    :param depth: node index in the tree (0 <= depth <= 9),\n",
    "    but never nine in this case (see iaturn() function)\n",
    "    :param player: an human or a computer\n",
    "    :return: a list with [the best row, best col, best score]\n",
    "    \"\"\"\n",
    "    if player == COMP:\n",
    "        best = [-1, -1, -infinity]\n",
    "    else:\n",
    "        best = [-1, -1, +infinity]\n",
    "\n",
    "    if depth == 0 or game_over(state):\n",
    "        score = evaluate(state)\n",
    "        return [-1, -1, score]\n",
    "\n",
    "    for cell in empty_cells(state):\n",
    "        x, y = cell[0], cell[1]\n",
    "        state[x][y] = player\n",
    "        score = minimax(state, depth - 1, -player)\n",
    "        state[x][y] = 0\n",
    "        score[0], score[1] = x, y\n",
    "\n",
    "        if player == COMP:\n",
    "            if score[2] > best[2]:\n",
    "                best = score  # max value\n",
    "        else:\n",
    "            if score[2] < best[2]:\n",
    "                best = score  # min value\n",
    "\n",
    "    return best\n",
    "\n",
    "\n",
    "def clean():\n",
    "    \"\"\"\n",
    "    Clears the console\n",
    "    \"\"\"\n",
    "    os_name = platform.system().lower()\n",
    "    if 'windows' in os_name:\n",
    "        system('cls')\n",
    "    else:\n",
    "        system('clear')\n",
    "\n",
    "\n",
    "def render(state, c_choice, h_choice):\n",
    "    \"\"\"\n",
    "    Print the board on console\n",
    "    :param state: current state of the board\n",
    "    \"\"\"\n",
    "\n",
    "    chars = {\n",
    "        -1: h_choice,\n",
    "        +1: c_choice,\n",
    "        0: ' '\n",
    "    }\n",
    "    str_line = '---------------'\n",
    "\n",
    "    print('\\n' + str_line)\n",
    "    for row in state:\n",
    "        for cell in row:\n",
    "            symbol = chars[cell]\n",
    "            print(f'| {symbol} |', end='')\n",
    "        print('\\n' + str_line)\n",
    "\n",
    "\n",
    "def ai_turn(c_choice, h_choice):\n",
    "    \"\"\"\n",
    "    It calls the minimax function if the depth < 9,\n",
    "    else it choices a random coordinate.\n",
    "    :param c_choice: computer's choice X or O\n",
    "    :param h_choice: human's choice X or O\n",
    "    :return:\n",
    "    \"\"\"\n",
    "    depth = len(empty_cells(board))\n",
    "    if depth == 0 or game_over(board):\n",
    "        return\n",
    "\n",
    "    clean()\n",
    "    print(f'Computer turn [{c_choice}]')\n",
    "    render(board, c_choice, h_choice)\n",
    "\n",
    "    if depth == 9:\n",
    "        x = choice([0, 1, 2])\n",
    "        y = choice([0, 1, 2])\n",
    "    else:\n",
    "        move = minimax(board, depth, COMP)\n",
    "        x, y = move[0], move[1]\n",
    "\n",
    "    set_move(x, y, COMP)\n",
    "    time.sleep(1)\n",
    "\n",
    "\n",
    "def human_turn(c_choice, h_choice):\n",
    "    \"\"\"\n",
    "    The Human plays choosing a valid move.\n",
    "    :param c_choice: computer's choice X or O\n",
    "    :param h_choice: human's choice X or O\n",
    "    :return:\n",
    "    \"\"\"\n",
    "    depth = len(empty_cells(board))\n",
    "    if depth == 0 or game_over(board):\n",
    "        return\n",
    "\n",
    "    # Dictionary of valid moves\n",
    "    move = -1\n",
    "    moves = {\n",
    "        1: [0, 0], 2: [0, 1], 3: [0, 2],\n",
    "        4: [1, 0], 5: [1, 1], 6: [1, 2],\n",
    "        7: [2, 0], 8: [2, 1], 9: [2, 2],\n",
    "    }\n",
    "\n",
    "    clean()\n",
    "    print(f'Human turn [{h_choice}]')\n",
    "    render(board, c_choice, h_choice)\n",
    "\n",
    "    while move < 1 or move > 9:\n",
    "        try:\n",
    "            move = int(input('Use numpad (1..9): '))\n",
    "            coord = moves[move]\n",
    "            can_move = set_move(coord[0], coord[1], HUMAN)\n",
    "\n",
    "            if not can_move:\n",
    "                print('Bad move')\n",
    "                move = -1\n",
    "        except (EOFError, KeyboardInterrupt):\n",
    "            print('Bye')\n",
    "            exit()\n",
    "        except (KeyError, ValueError):\n",
    "            print('Bad choice')\n",
    "\n",
    "\n",
    "def main():\n",
    "    \"\"\"\n",
    "    Main function that calls all functions\n",
    "    \"\"\"\n",
    "    clean()\n",
    "    h_choice = ''  # X or O\n",
    "    c_choice = ''  # X or O\n",
    "    first = ''  # if human is the first\n",
    "\n",
    "    # Human chooses X or O to play\n",
    "    while h_choice != 'O' and h_choice != 'X':\n",
    "        try:\n",
    "            print('')\n",
    "            h_choice = input('Choose X or O\\nChosen: ').upper()\n",
    "        except (EOFError, KeyboardInterrupt):\n",
    "            print('Bye')\n",
    "            exit()\n",
    "        except (KeyError, ValueError):\n",
    "            print('Bad choice')\n",
    "\n",
    "    # Setting computer's choice\n",
    "    if h_choice == 'X':\n",
    "        c_choice = 'O'\n",
    "    else:\n",
    "        c_choice = 'X'\n",
    "\n",
    "    # Human may starts first\n",
    "    clean()\n",
    "    while first != 'Y' and first != 'N':\n",
    "        try:\n",
    "            first = input('First to start?[y/n]: ').upper()\n",
    "        except (EOFError, KeyboardInterrupt):\n",
    "            print('Bye')\n",
    "            exit()\n",
    "        except (KeyError, ValueError):\n",
    "            print('Bad choice')\n",
    "\n",
    "    # Main loop of this game\n",
    "    while len(empty_cells(board)) > 0 and not game_over(board):\n",
    "        if first == 'N':\n",
    "            ai_turn(c_choice, h_choice)\n",
    "            first = ''\n",
    "\n",
    "        human_turn(c_choice, h_choice)\n",
    "        ai_turn(c_choice, h_choice)\n",
    "\n",
    "    # Game over message\n",
    "    if wins(board, HUMAN):\n",
    "        clean()\n",
    "        print(f'Human turn [{h_choice}]')\n",
    "        render(board, c_choice, h_choice)\n",
    "        print('YOU WIN!')\n",
    "    elif wins(board, COMP):\n",
    "        clean()\n",
    "        print(f'Computer turn [{c_choice}]')\n",
    "        render(board, c_choice, h_choice)\n",
    "        print('YOU LOSE!')\n",
    "    else:\n",
    "        clean()\n",
    "        render(board, c_choice, h_choice)\n",
    "        print('DRAW!')\n",
    "\n",
    "    exit()\n",
    "\n",
    "\n",
    "if __name__ == '__main__':\n",
    "    main()"
   ]
  },
  {
   "cell_type": "code",
   "execution_count": 1,
   "id": "6b9a03f0",
   "metadata": {},
   "outputs": [],
   "source": [
    "board = [\n",
    "    [0, 0, 0],\n",
    "    [0, 0, 0],\n",
    "    [0, 0, 0],\n",
    "]"
   ]
  },
  {
   "cell_type": "code",
   "execution_count": 2,
   "id": "4cda096e",
   "metadata": {},
   "outputs": [
    {
     "data": {
      "text/plain": [
       "[[0, 0, 0], [0, 0, 0], [0, 0, 0]]"
      ]
     },
     "execution_count": 2,
     "metadata": {},
     "output_type": "execute_result"
    }
   ],
   "source": [
    "board"
   ]
  },
  {
   "cell_type": "code",
   "execution_count": 32,
   "id": "96879c6b",
   "metadata": {},
   "outputs": [
    {
     "data": {
      "text/plain": [
       "[['x', 'x', 'x', 'x'],\n",
       " ['x', 'x', 'x', 'x'],\n",
       " ['x', 'x', 'x', 'x'],\n",
       " ['x', 'x', 'x', 'x']]"
      ]
     },
     "execution_count": 32,
     "metadata": {},
     "output_type": "execute_result"
    }
   ],
   "source": []
  },
  {
   "cell_type": "code",
   "execution_count": 33,
   "id": "4482c88c",
   "metadata": {},
   "outputs": [
    {
     "name": "stdout",
     "output_type": "stream",
     "text": [
      "x | x | xx | \n",
      "__________\n",
      "x | x | xx | \n",
      "__________\n",
      "x | x | xx | \n",
      "__________\n",
      "x | x | xx | "
     ]
    }
   ],
   "source": [
    "for row_count,row in enumerate(board):\n",
    "    if row_count !=0:\n",
    "        print(f'\\n{\"_\"*10}')\n",
    "    for col_count,col in enumerate(row):\n",
    "        if col ==None:\n",
    "            print(' ',end=\"\")\n",
    "        else:\n",
    "            print(col,end=\"\")\n",
    "        if col_count==2:\n",
    "            pass\n",
    "        else:\n",
    "            print(\" | \",end=\"\")"
   ]
  },
  {
   "cell_type": "code",
   "execution_count": 40,
   "id": "2ed71790",
   "metadata": {},
   "outputs": [],
   "source": [
    "def format_row(row):\n",
    "    return '|' + '|'.join('{0:^3s}'.format(x) for x in row) + '|'\n",
    "\n",
    "def format_board(board):\n",
    "\n",
    "    return '\\n\\n'.join(format_row(row) for row in board)"
   ]
  },
  {
   "cell_type": "code",
   "execution_count": 47,
   "id": "44e916f1",
   "metadata": {},
   "outputs": [
    {
     "name": "stdout",
     "output_type": "stream",
     "text": [
      "| x | x | x |\n",
      "\n",
      "| x | x | x |\n",
      "\n",
      "| x | x | x |\n"
     ]
    }
   ],
   "source": [
    "m=3 #columns\n",
    "n=3 #rows\n",
    "board=[[\"x\" for i in range(m)] for i in range (n)]\n",
    "board\n",
    "\n",
    "print(format_board(board))"
   ]
  },
  {
   "cell_type": "code",
   "execution_count": 57,
   "id": "37664179",
   "metadata": {},
   "outputs": [
    {
     "data": {
      "text/plain": [
       "[[' ', ' ', ' '], [' ', ' ', ' '], [' ', ' ', ' ']]"
      ]
     },
     "execution_count": 57,
     "metadata": {},
     "output_type": "execute_result"
    }
   ],
   "source": [
    "self_m=3 #columns\n",
    "self_n=3 #rows\n",
    "array_board=[[' ' for i in range(self_m)] for i in range(self_n)]\n",
    "array_board"
   ]
  },
  {
   "cell_type": "code",
   "execution_count": 53,
   "id": "94c928f8",
   "metadata": {},
   "outputs": [
    {
     "data": {
      "text/plain": [
       "['A', 'B', 'C']"
      ]
     },
     "execution_count": 53,
     "metadata": {},
     "output_type": "execute_result"
    }
   ],
   "source": [
    "UPPER_CASE_OFFSET=64\n",
    "\n",
    "array_first_line=[chr(code + UPPER_CASE_OFFSET) for code in range(1, self_m + 1)]\n",
    "array_first_line"
   ]
  },
  {
   "cell_type": "code",
   "execution_count": 55,
   "id": "3b8bd366",
   "metadata": {},
   "outputs": [
    {
     "data": {
      "text/plain": [
       "'    A   B   C \\n'"
      ]
     },
     "execution_count": 55,
     "metadata": {},
     "output_type": "execute_result"
    }
   ],
   "source": [
    "\n",
    "first_line =' ' * (len(str(self_n)) + 3) +(' ' * 3).join(array_first_line) + ' \\n'\n",
    "first_line"
   ]
  },
  {
   "cell_type": "code",
   "execution_count": 61,
   "id": "14c8f389",
   "metadata": {},
   "outputs": [
    {
     "data": {
      "text/plain": [
       "['3 |   |   |   | 3\\n', '2 |   |   |   | 2\\n', '1 |   |   |   | 1\\n']"
      ]
     },
     "execution_count": 61,
     "metadata": {},
     "output_type": "execute_result"
    }
   ],
   "source": [
    "list_lines=[]\n",
    "for index_line, array_line in enumerate(array_board, 1):\n",
    "    index_line = self_n + 1 - index_line\n",
    "    number_spaces_before_line = len(str(self_n)) - len(str(index_line))\n",
    "    space_before_line = number_spaces_before_line * ' '\n",
    "    list_lines.append(f'{space_before_line}{index_line} | ' +' | '.join(array_line) + f' | {index_line}\\n')\n",
    "list_lines"
   ]
  },
  {
   "cell_type": "code",
   "execution_count": 63,
   "id": "508d581e",
   "metadata": {},
   "outputs": [
    {
     "data": {
      "text/plain": [
       "'  -------------\\n'"
      ]
     },
     "execution_count": 63,
     "metadata": {},
     "output_type": "execute_result"
    }
   ],
   "source": [
    "line_dashes = (len(str(self_n)) + 1)*' ' + '-' * 4 * self_m + '-\\n'\n",
    "line_dashes"
   ]
  },
  {
   "cell_type": "code",
   "execution_count": 66,
   "id": "33d86137",
   "metadata": {},
   "outputs": [
    {
     "name": "stdout",
     "output_type": "stream",
     "text": [
      "    A   B   C \n",
      "  -------------\n",
      "3 |   |   |   | 3\n",
      "  -------------\n",
      "2 |   |   |   | 2\n",
      "  -------------\n",
      "1 |   |   |   | 1\n",
      "  -------------\n",
      "    A   B   C \n",
      "\n"
     ]
    }
   ],
   "source": [
    "board_str = first_line + line_dashes + line_dashes.join(list_lines) +\\\n",
    "                    line_dashes + first_line\n",
    "print(board_str)"
   ]
  },
  {
   "cell_type": "code",
   "execution_count": 71,
   "id": "f51b5143",
   "metadata": {},
   "outputs": [
    {
     "data": {
      "text/plain": [
       "False"
      ]
     },
     "execution_count": 71,
     "metadata": {},
     "output_type": "execute_result"
    }
   ],
   "source": [
    "x=True\n",
    "y=True\n",
    "z=True\n",
    "w=False\n",
    "\n",
    "(x==y==z==w==True)"
   ]
  },
  {
   "cell_type": "code",
   "execution_count": null,
   "id": "df5990d9",
   "metadata": {},
   "outputs": [],
   "source": []
  }
 ],
 "metadata": {
  "kernelspec": {
   "display_name": "Python 3 (ipykernel)",
   "language": "python",
   "name": "python3"
  },
  "language_info": {
   "codemirror_mode": {
    "name": "ipython",
    "version": 3
   },
   "file_extension": ".py",
   "mimetype": "text/x-python",
   "name": "python",
   "nbconvert_exporter": "python",
   "pygments_lexer": "ipython3",
   "version": "3.9.12"
  }
 },
 "nbformat": 4,
 "nbformat_minor": 5
}
